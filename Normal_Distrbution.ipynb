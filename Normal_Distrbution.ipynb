{
  "nbformat": 4,
  "nbformat_minor": 0,
  "metadata": {
    "colab": {
      "provenance": [],
      "authorship_tag": "ABX9TyM6OrScsvUbKi3JRoCAhpTX",
      "include_colab_link": true
    },
    "kernelspec": {
      "name": "python3",
      "display_name": "Python 3"
    },
    "language_info": {
      "name": "python"
    }
  },
  "cells": [
    {
      "cell_type": "markdown",
      "metadata": {
        "id": "view-in-github",
        "colab_type": "text"
      },
      "source": [
        "<a href=\"https://colab.research.google.com/github/Masuzyo/Thrivesummer/blob/main/Normal_Distrbution.ipynb\" target=\"_parent\"><img src=\"https://colab.research.google.com/assets/colab-badge.svg\" alt=\"Open In Colab\"/></a>"
      ]
    },
    {
      "cell_type": "code",
      "execution_count": null,
      "metadata": {
        "id": "-qsTtkQx-Xo-"
      },
      "outputs": [],
      "source": [
        "import numpy as np\n",
        "import matplotlib.pyplot as plt\n",
        "import seaborn as sns\n",
        "from scipy.stats import norm,shapiro\n",
        "from sklearn.datasets import load_iris, load_diabetes\n",
        "import pandas as pd"
      ]
    },
    {
      "cell_type": "markdown",
      "source": [
        "# Normal Distrbution\n",
        "\n",
        "The normal distribution is a continuous probability distribution that is symmetric around its mean. It's characterized by two parameters: mean (μ) and standard deviation (σ). **X~N($\\mu$,σ)**"
      ],
      "metadata": {
        "id": "LaRM2p0t-lb4"
      }
    },
    {
      "cell_type": "code",
      "source": [
        "# Find P(Z<z)\n",
        "print(norm.cdf(1.65))"
      ],
      "metadata": {
        "id": "chwY8t7u_CNv"
      },
      "execution_count": null,
      "outputs": []
    },
    {
      "cell_type": "code",
      "source": [
        "# Find z\n",
        "\n",
        "print(norm.ppf(0.9750))"
      ],
      "metadata": {
        "id": "zSWVHRh1A4XQ"
      },
      "execution_count": null,
      "outputs": []
    },
    {
      "cell_type": "code",
      "source": [
        "# Find P(X<x)\n",
        "\n",
        "print(norm.cdf(6,loc=6,scale=2))"
      ],
      "metadata": {
        "id": "7RVmT4OyCyxH"
      },
      "execution_count": null,
      "outputs": []
    },
    {
      "cell_type": "code",
      "source": [
        "# Find x given  P(X<x)\n",
        "print(norm.ppf(0.5,loc=6,scale=2))"
      ],
      "metadata": {
        "id": "9hK0FS3LCy9A"
      },
      "execution_count": null,
      "outputs": []
    },
    {
      "cell_type": "markdown",
      "source": [
        "## Quick Exercise\n",
        "**Find:**\n",
        "- P(Z$<$2.31)\n",
        "- the third quartile given X~N(20,11).\n",
        "\n",
        "**Your code here**"
      ],
      "metadata": {
        "id": "qPodUp9WEUEe"
      }
    },
    {
      "cell_type": "code",
      "source": [],
      "metadata": {
        "id": "6BfXaoB7FLQV"
      },
      "execution_count": null,
      "outputs": []
    },
    {
      "cell_type": "markdown",
      "source": [
        "## Example\n",
        "\n",
        "In the United States the ages 13 to 55+ of smartphone users approximately follow a normal distribution with approximate mean and standard deviation of 36.9 years and 13.9 years respectively. Using this information, answer the\n",
        "following questions.\n",
        "- What is the probabilty that a smartphone user is older than 30?\n",
        "- Calculate the interquartile range (IQR).\n",
        "- Forty percent of the smartphone users from 13 to 55+ are at least what age?"
      ],
      "metadata": {
        "id": "M0gvI3YTGdJ4"
      }
    },
    {
      "cell_type": "code",
      "source": [
        "p30=1-norm.cdf(30,loc=36.9,scale=13.9)\n",
        "print(p30)"
      ],
      "metadata": {
        "id": "ExKQl7OmKDV9"
      },
      "execution_count": null,
      "outputs": []
    },
    {
      "cell_type": "code",
      "source": [
        "q3= norm.ppf(0.75,loc=36.9,scale=13.9)\n",
        "q1= norm.ppf(0.25,loc=36.9,scale=13.9)\n",
        "print(q1,q3)"
      ],
      "metadata": {
        "id": "uaI6qMViIfLQ"
      },
      "execution_count": null,
      "outputs": []
    },
    {
      "cell_type": "code",
      "source": [
        "IQR=q3-q1\n",
        "print(IQR)"
      ],
      "metadata": {
        "id": "folXxJppHDKi"
      },
      "execution_count": null,
      "outputs": []
    },
    {
      "cell_type": "code",
      "source": [
        "p60= norm.ppf(0.60,loc=36.9,scale=13.9)\n",
        "print(p60)"
      ],
      "metadata": {
        "id": "me4vyK0wJGlI"
      },
      "execution_count": null,
      "outputs": []
    },
    {
      "cell_type": "markdown",
      "source": [
        "# Testing normaility"
      ],
      "metadata": {
        "id": "Qg1bgeIzGNfn"
      }
    },
    {
      "cell_type": "code",
      "source": [
        "# Load the iris dataset\n",
        "iris = load_iris()\n",
        "X, y = iris.data, iris.target\n",
        "# Extract sepal length (first feature)\n",
        "sepal_length = X[:, 0]"
      ],
      "metadata": {
        "id": "rdMhooa_FjLP"
      },
      "execution_count": null,
      "outputs": []
    },
    {
      "cell_type": "code",
      "source": [
        "# Plot histogram and normal distribution overlay\n",
        "plt.figure(figsize=(10, 6))\n",
        "plt.hist(sepal_length, bins=20, density=True, alpha=0.7, color='skyblue')\n",
        "sns.kdeplot(sepal_length, color='blue', linewidth=2)\n",
        "plt.xlabel('Sepal Length')\n",
        "plt.ylabel('Density')\n",
        "plt.title('Distribution of Sepal Length')\n",
        "plt.show()"
      ],
      "metadata": {
        "id": "gCqyKSTgKgdD"
      },
      "execution_count": null,
      "outputs": []
    },
    {
      "cell_type": "code",
      "source": [
        "# Plot histogram and normal distribution overlay\n",
        "plt.figure(figsize=(10, 6))\n",
        "plt.hist(sepal_length, bins=20, density=True, alpha=0.7, color='skyblue')\n",
        "sns.kdeplot(sepal_length, color='blue', linewidth=2)\n",
        "plt.xlabel('Sepal Length')\n",
        "plt.ylabel('Density')\n",
        "plt.title('Distribution of Sepal Length')\n",
        "\n",
        "# Overlay normal distribution\n",
        "mu, sigma = np.mean(sepal_length), np.std(sepal_length)\n",
        "x = np.linspace(sepal_length.min(), sepal_length.max(), 100)\n",
        "plt.plot(x,norm.pdf(x, mu, sigma), 'r-', label=f'Normal(μ={mu:.2f}, σ={sigma:.2f})')\n",
        "plt.legend()\n",
        "plt.show()"
      ],
      "metadata": {
        "id": "XVqVWOzEKmLO"
      },
      "execution_count": null,
      "outputs": []
    },
    {
      "cell_type": "markdown",
      "source": [
        "Shapiro-wilk Test"
      ],
      "metadata": {
        "id": "Sher-cJCKup_"
      }
    },
    {
      "cell_type": "code",
      "source": [
        "#shapiro wilks\n",
        "res=shapiro(sepal_length)\n",
        "print(\"p-value = \",res[1])"
      ],
      "metadata": {
        "id": "m6G74_9eKzBh"
      },
      "execution_count": null,
      "outputs": []
    },
    {
      "cell_type": "markdown",
      "source": [
        "### Exercise 1: Normal Distribution Analysis\n",
        "**Task**: Using the diabetes dataset, analyze the distribution of disease progression.\n",
        "\n",
        "1. Load the diabetes dataset\n",
        "2. Extract the disease progression\n",
        "3. Calculate mean and standard deviation\n",
        "4. Create a histogram with normal distribution overlay\n",
        "5. Perform a Shapiro-Wilk test to check if the data is normally distributed\n",
        "6. Interpret the results\n",
        "\n",
        "**Your Code Here:**"
      ],
      "metadata": {
        "id": "a9bkgL5XK7DF"
      }
    },
    {
      "cell_type": "code",
      "source": [
        "# Load diabetes dataset\n",
        "diabetes = load_diabetes()\n",
        "# Your solution here"
      ],
      "metadata": {
        "id": "BMsibssgLR8M"
      },
      "execution_count": null,
      "outputs": []
    }
  ]
}