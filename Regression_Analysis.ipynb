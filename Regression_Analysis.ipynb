{
  "nbformat": 4,
  "nbformat_minor": 0,
  "metadata": {
    "colab": {
      "provenance": [],
      "authorship_tag": "ABX9TyMU+QjYmA0xywk7DJYFVa/3",
      "include_colab_link": true
    },
    "kernelspec": {
      "name": "python3",
      "display_name": "Python 3"
    },
    "language_info": {
      "name": "python"
    }
  },
  "cells": [
    {
      "cell_type": "markdown",
      "metadata": {
        "id": "view-in-github",
        "colab_type": "text"
      },
      "source": [
        "<a href=\"https://colab.research.google.com/github/Masuzyo/Thrivesummer/blob/main/Regression_Analysis.ipynb\" target=\"_parent\"><img src=\"https://colab.research.google.com/assets/colab-badge.svg\" alt=\"Open In Colab\"/></a>"
      ]
    },
    {
      "cell_type": "markdown",
      "source": [
        "# Complete Simple Linear Regression Analysis Notebook\n",
        "\n",
        "## Dataset (8 Observations)\n",
        "Let's analyze the relationship between study hours (X) and exam scores (Y):\n",
        "\n",
        "| Observation | Study Hours (X) | Exam Score (Y) |\n",
        "|-------------|-----------------|----------------|\n",
        "| 1           | 2               | 65             |\n",
        "| 2           | 4               | 70             |\n",
        "| 3           | 6               | 75             |\n",
        "| 4           | 8               | 80             |\n",
        "| 5           | 10              | 85             |\n",
        "| 6           | 12              | 90             |\n",
        "| 7           | 14              | 88             |\n",
        "| 8           | 16              | 95             |\n",
        "\n",
        "## Step 1: Basic Calculations\n",
        "\n",
        "### Summary Statistics\n",
        "- n = 8 observations\n",
        "- Σx = 2 + 4 + 6 + 8 + 10 + 12 + 14 + 16 = 72\n",
        "- Σy = 65 + 70 + 75 + 80 + 85 + 90 + 88 + 95 = 648\n",
        "- x̄ = 72/8 = 9\n",
        "- ȳ = 648/8 = 81\n",
        "\n",
        "### Detailed Calculations Table\n",
        "| X | Y | x-x̄ | y-ȳ | (x-x̄)² | (y-ȳ)² | (x-x̄)(y-ȳ) | x² | y² | xy |\n",
        "|---|---|-----|-----|---------|---------|-------------|----|----|-----|\n",
        "| 2 | 65 | -7 | -16 | 49 | 256 | 112 | 4 | 4225 | 130 |\n",
        "| 4 | 70 | -5 | -11 | 25 | 121 | 55 | 16 | 4900 | 280 |\n",
        "| 6 | 75 | -3 | -6 | 9 | 36 | 18 | 36 | 5625 | 450 |\n",
        "| 8 | 80 | -1 | -1 | 1 | 1 | 1 | 64 | 6400 | 640 |\n",
        "| 10 | 85 | 1 | 4 | 1 | 16 | 4 | 100 | 7225 | 850 |\n",
        "| 12 | 90 | 3 | 9 | 9 | 81 | 27 | 144 | 8100 | 1080 |\n",
        "| 14 | 88 | 5 | 7 | 25 | 49 | 35 | 196 | 7744 | 1232 |\n",
        "| 16 | 95 | 7 | 14 | 49 | 196 | 98 | 256 | 9025 | 1520 |\n",
        "| **Σ** | | | | **168** | **756** | **350** | **816** | **53244** | **6182** |\n",
        "\n",
        "## Step 2: Regression Equation\n",
        "\n",
        "### Calculate Slope (b₁) and Intercept (b₀)\n",
        "```\n",
        "b₁ = Σ(x-x̄)(y-ȳ) / Σ(x-x̄)² = 350 / 168 = 2.083\n",
        "\n",
        "b₀ = ȳ - b₁x̄ = 81 - 2.083(9) = 81 - 18.75 = 62.25\n",
        "```\n",
        "\n",
        "### Regression Equation\n",
        "**ŷ = 62.25 + 2.083x**"
      ],
      "metadata": {
        "id": "3qvK32m3d2f_"
      }
    },
    {
      "cell_type": "code",
      "source": [
        "import pandas as pd\n",
        "import matplotlib.pyplot as plt\n",
        "from sklearn.linear_model import LinearRegression\n",
        "data = {\n",
        "    'Study_Hours': [2, 4, 6, 8, 10, 12, 14, 16],\n",
        "    'Exam_Score': [65, 70, 75, 80, 85, 90, 88, 95]\n",
        "}\n",
        "df = pd.DataFrame(data)\n",
        "X = df[['Study_Hours']]  # Features (must be 2D for sklearn)\n",
        "y = df['Exam_Score']     # Target variable\n",
        "plt.figure(figsize=(8, 6))\n",
        "plt.scatter(X, y, color='blue', alpha=0.7)\n",
        "plt.xlabel('Study Hours')\n",
        "plt.ylabel('Exam Score')\n",
        "plt.title('Scatter Plot of Study Hours vs Exam Score')\n",
        "model = LinearRegression()\n",
        "model.fit(X, y)\n",
        "y_pred = model.predict(X)\n",
        "plt.figure(figsize=(8, 6))\n",
        "plt.scatter(X, y, color='blue', alpha=0.7)\n",
        "plt.plot(X, y_pred, color='red', linewidth=2)\n",
        "plt.xlabel('Study Hours')\n",
        "plt.ylabel('Exam Score')\n",
        "plt.title('Regression Line')\n",
        "plt.show()"
      ],
      "metadata": {
        "id": "u81r8bdzdz5p"
      },
      "execution_count": null,
      "outputs": []
    },
    {
      "cell_type": "markdown",
      "source": [
        "\n",
        "\n",
        "## Step 3: Sum of Squares Calculations\n",
        "\n",
        "### Total Sum of Squares (SST)\n",
        "```\n",
        "SST = Σ(y-ȳ)² = 756\n",
        "```\n",
        "\n",
        "### Regression Sum of Squares (SSR)\n",
        "```\n",
        "SSR = Σ(ŷ-ȳ)²\n",
        "```\n",
        "\n",
        "First, calculate predicted values (ŷ):\n",
        "\n",
        "| X | Y | ŷ = 62.25 + 2.083x | ŷ-ȳ | (ŷ-ȳ)² |\n",
        "|---|---|-------------------|------|--------|\n",
        "| 2 | 65 | 66.42 | -14.58 | 212.58 |\n",
        "| 4 | 70 | 70.58 | -10.42 | 108.58 |\n",
        "| 6 | 75 | 74.75 | -6.25 | 39.06 |\n",
        "| 8 | 80 | 78.92 | -2.08 | 4.33 |\n",
        "| 10 | 85 | 83.08 | 2.08 | 4.33 |\n",
        "| 12 | 90 | 87.25 | 6.25 | 39.06 |\n",
        "| 14 | 88 | 91.42 | 10.42 | 108.58 |\n",
        "| 16 | 95 | 95.58 | 14.58 | 212.58 |\n",
        "| | | | | **SSR = 729.10** |\n",
        "\n",
        "### Error Sum of Squares (SSE)\n",
        "```\n",
        "SSE = SST - SSR = 756 - 729.10 = 26.90\n",
        "```\n",
        "\n",
        "**Verification:** SST = SSR + SSE → 756 = 729.10 + 26.90 ✓\n",
        "\n",
        "## Step 4: Correlation Coefficient (r)\n",
        "\n",
        "### Pearson Correlation Coefficient\n",
        "```\n",
        "r = Σ(x-x̄)(y-ȳ) / √[Σ(x-x̄)²Σ(y-ȳ)²]\n",
        "r = 350 / √(168 × 756)\n",
        "r = 350 / √126,968\n",
        "r = 350 / 356.33\n",
        "r = 0.982\n",
        "```\n",
        "\n",
        "**Strong positive correlation (r = 0.982)**\n",
        "\n",
        "## Step 5: Coefficient of Determination (R²)\n",
        "\n",
        "### R² Calculation\n",
        "```\n",
        "R² = SSR/SST = 729.10/756 = 0.964\n",
        "```\n",
        "\n",
        "**Alternative calculation:**\n",
        "```\n",
        "R² = r² = (0.982)² = 0.964\n",
        "```\n",
        "\n",
        "**Interpretation:** 96.4% of the variation in exam scores is explained by study hours.\n",
        "\n",
        "## Step 6: ANOVA Table\n",
        "\n",
        "| Source | SS | df | MS | F |\n",
        "|--------|----|----|----|----|\n",
        "| Regression | 729.10 | 1 | 729.10 | 162.56 |\n",
        "| Error | 26.90 | 6 | 4.48 | |\n",
        "| Total | 756.00 | 7 | | |\n",
        "\n",
        "### Calculations:\n",
        "- df(regression) = 1 (one predictor)\n",
        "- df(error) = n - 2 = 8 - 2 = 6\n",
        "- df(total) = n - 1 = 8 - 1 = 7\n",
        "- MS(regression) = SSR/df(regression) = 729.10/1 = 729.10\n",
        "- MS(error) = SSE/df(error) = 26.90/6 = 4.48\n",
        "- F-statistic = MS(regression)/MS(error) = 729.10/4.48 = 162.56\n",
        "\n",
        "### F-Test Interpretation\n",
        "- F(1,6) = 162.56\n",
        "- Critical F(1,6) at α = 0.05 ≈ 5.99\n",
        "- Since F > F_critical, we reject H₀: β₁ = 0\n",
        "- **Conclusion:** The relationship is statistically significant\n",
        "\n",
        "## Step 7: Residual Analysis\n",
        "\n",
        "### Residuals Calculation\n",
        "\n",
        "| Observation | X | Y | ŷ | Residual (e = y - ŷ) | e² |\n",
        "|-------------|---|---|---|---------------------|-----|\n",
        "| 1 | 2 | 65 | 66.42 | -1.42 | 2.02 |\n",
        "| 2 | 4 | 70 | 70.58 | -0.58 | 0.34 |\n",
        "| 3 | 6 | 75 | 74.75 | 0.25 | 0.06 |\n",
        "| 4 | 8 | 80 | 78.92 | 1.08 | 1.17 |\n",
        "| 5 | 10 | 85 | 83.08 | 1.92 | 3.69 |\n",
        "| 6 | 12 | 90 | 87.25 | 2.75 | 7.56 |\n",
        "| 7 | 14 | 88 | 91.42 | -3.42 | 11.70 |\n",
        "| 8 | 16 | 95 | 95.58 | -0.58 | 0.34 |\n",
        "| | | | | **Σe = 0** | **Σe² = 26.88** |\n",
        "\n",
        "### Residual Statistics\n",
        "- Mean of residuals: 0/8 = 0 ✓\n",
        "- Standard error: s = √(SSE/(n-2)) = √(26.90/6) = 2.12\n",
        "\n",
        "## Step 8: Regression Assumptions\n",
        "\n",
        "### 1. Linearity\n",
        "**Check:** Plot Y vs X - should show linear relationship\n",
        "- **Assessment:** The scatterplot shows a strong linear pattern ✓\n",
        "\n",
        "### 2. Independence\n",
        "**Check:** Residuals should be independent\n",
        "- **Assessment:** No apparent pattern in residual sequence ✓\n",
        "\n",
        "### 3. Homoscedasticity (Constant Variance)\n",
        "**Check:** Plot residuals vs fitted values\n",
        "- **Assessment:** Residuals appear randomly scattered around zero ✓\n",
        "\n",
        "### 4. Normality of Residuals\n",
        "**Check:** Residuals should be normally distributed\n",
        "\n",
        "**Standardized Residuals:**\n",
        "\n",
        "| Observation | Residual | Standardized Residual |\n",
        "|-------------|----------|----------------------|\n",
        "| 1 | -1.42 | -0.67 |\n",
        "| 2 | -0.58 | -0.27 |\n",
        "| 3 | 0.25 | 0.12 |\n",
        "| 4 | 1.08 | 0.51 |\n",
        "| 5 | 1.92 | 0.91 |\n",
        "| 6 | 2.75 | 1.30 |\n",
        "| 7 | -3.42 | -1.61 |\n",
        "| 8 | -0.58 | -0.27 |\n",
        "\n",
        "**Assessment:** All standardized residuals are within ±2, suggesting normality ✓\n",
        "\n",
        "### 5. No Outliers\n",
        "**Check:** Look for influential observations\n",
        "- **Assessment:** No extreme outliers detected ✓\n",
        "\n",
        "## Step 9: Model Summary\n",
        "\n",
        "### Key Results\n",
        "- **Regression Equation:** ŷ = 62.25 + 2.083x\n",
        "- **Correlation:** r = 0.982 (very strong positive)\n",
        "- **R-squared:** R² = 0.964 (96.4% variance explained)\n",
        "- **F-statistic:** F = 162.56 (p < 0.001)\n",
        "- **Standard Error:** s = 2.12\n",
        "\n",
        "### Interpretation\n",
        "For every additional hour of study, exam scores increase by approximately 2.08 points on average. The model explains 96.4% of the variation in exam scores, indicating an excellent fit. All regression assumptions appear to be satisfied.\n",
        "\n",
        "### Confidence in Results\n",
        "The high R² value, significant F-statistic, and satisfied assumptions suggest this is a reliable model for predicting exam scores based on study hours within the observed range (2-16 hours).\n",
        "\n",
        "## Step 10: Prediction Example\n",
        "\n",
        "**Question:** What exam score would we predict for a student who studies 11 hours?\n",
        "\n",
        "**Answer:**\n",
        "```\n",
        "ŷ = 62.25 + 2.083(11) = 62.25 + 22.91 = 85.16\n",
        "```\n",
        "\n",
        "**Predicted exam score: 85.16**"
      ],
      "metadata": {
        "id": "-f_hDax2TZHl"
      }
    },
    {
      "cell_type": "markdown",
      "source": [
        "## Step 11: Python Implementation with sklearn\n",
        "\n",
        "Here's the complete Python code that replicates all our manual calculations using built-in functions:"
      ],
      "metadata": {
        "id": "-k_fVLl0Uc0Y"
      }
    },
    {
      "cell_type": "code",
      "source": [
        "import numpy as np\n",
        "import pandas as pd\n",
        "from sklearn.linear_model import LinearRegression\n",
        "from sklearn.metrics import r2_score, mean_squared_error\n",
        "from scipy import stats\n",
        "import matplotlib.pyplot as plt\n",
        "import seaborn as sns\n",
        "import statsmodels.api as sm\n",
        "from statsmodels.stats.anova import anova_lm\n",
        "\n",
        "# Step 1: Create the dataset\n",
        "data = {\n",
        "    'Study_Hours': [2, 4, 6, 8, 10, 12, 14, 16],\n",
        "    'Exam_Score': [65, 70, 75, 80, 85, 90, 88, 95]\n",
        "}\n",
        "\n",
        "df = pd.DataFrame(data)\n",
        "print(\"Dataset:\")\n",
        "print(df)"
      ],
      "metadata": {
        "id": "yvcliHMfUhaP"
      },
      "execution_count": null,
      "outputs": []
    },
    {
      "cell_type": "code",
      "source": [
        "# Step 2: Prepare data for sklearn\n",
        "X = df[['Study_Hours']]  # Features (must be 2D for sklearn)\n",
        "y = df['Exam_Score']     # Target variable"
      ],
      "metadata": {
        "id": "rqNtqOx1UqSN"
      },
      "execution_count": null,
      "outputs": []
    },
    {
      "cell_type": "code",
      "source": [
        "# Step 3: Create and fit the linear regression model\n",
        "model = LinearRegression()\n",
        "model.fit(X, y)"
      ],
      "metadata": {
        "id": "N1Mk97mvU0nV"
      },
      "execution_count": null,
      "outputs": []
    },
    {
      "cell_type": "code",
      "source": [
        "# Get coefficients\n",
        "intercept = model.intercept_\n",
        "slope = model.coef_[0]\n",
        "print(f\"REGRESSION EQUATION:\")\n",
        "print(f\"ŷ = {intercept:.2f} + {slope:.3f}x\")\n",
        "print(f\"Manual calculation: ŷ = 62.25 + 2.083x\")"
      ],
      "metadata": {
        "id": "439frrN_U7S8"
      },
      "execution_count": null,
      "outputs": []
    },
    {
      "cell_type": "code",
      "source": [
        "# Step 4: Make predictions\n",
        "y_pred = model.predict(X)"
      ],
      "metadata": {
        "id": "WcDohzKuVDZK"
      },
      "execution_count": null,
      "outputs": []
    },
    {
      "cell_type": "code",
      "source": [
        "# Step 5: Calculate basic statistics\n",
        "n = len(y)\n",
        "y_mean = np.mean(y)\n",
        "x_mean = np.mean(X.values.flatten())"
      ],
      "metadata": {
        "id": "COiRtnF3VIE8"
      },
      "execution_count": null,
      "outputs": []
    },
    {
      "cell_type": "code",
      "source": [
        "# Step 6: Get ANOVA table and summary using statsmodels\n",
        "X_sm = sm.add_constant(X)  # Add constant term for intercept\n",
        "model_sm = sm.OLS(y, X_sm).fit()\n",
        "#anova_table = sm.stats.anova_lm(model_sm, typ=2)\n",
        "#print(f\"ANOVA TABLE:\")\n",
        "#print(anova_table)\n"
      ],
      "metadata": {
        "id": "pOJKIOoMVdH-"
      },
      "execution_count": null,
      "outputs": []
    },
    {
      "cell_type": "code",
      "source": [
        "# Step 7: Calculate correlation coefficient\n",
        "correlation_matrix = np.corrcoef(X.values.flatten(), y)\n",
        "r = correlation_matrix[0, 1]\n",
        "print(f\"CORRELATION:\")\n",
        "print(f\"r = {r:.3f}\")\n",
        "print(f\"Manual calculation: r = 0.982\")"
      ],
      "metadata": {
        "id": "LIFtbCSuV2C6"
      },
      "execution_count": null,
      "outputs": []
    },
    {
      "cell_type": "code",
      "source": [
        "# Step 8: Calculate R-squared\n",
        "r_squared = r2_score(y, y_pred)\n",
        "\n",
        "print(f\"R-SQUARED:\")\n",
        "print(f\"R² (sklearn) = {r_squared:.3f}\")\n",
        "print(f\"R² (r²) = {r**2:.3f}\")\n",
        "print(f\"Interpretation: {r_squared*100:.1f}% of variance explained\")"
      ],
      "metadata": {
        "id": "9Xy5fWe7WH76"
      },
      "execution_count": null,
      "outputs": []
    },
    {
      "cell_type": "code",
      "source": [
        "# Step 10: Residual Analysis\n",
        "residuals = y - y_pred\n",
        "MSE_sm = mean_squared_error(y, y_pred)\n",
        "std_error = np.sqrt(MSE_sm)  # Use MSE from statsmodels ANOVA\n",
        "standardized_residuals = residuals / std_error\n",
        "\n",
        "print(f\"RESIDUAL ANALYSIS:\")\n",
        "residual_df = pd.DataFrame({\n",
        "    'Observation': range(1, n+1),\n",
        "    'X': X.values.flatten(),\n",
        "    'Y': y,\n",
        "    'Y_pred': y_pred,\n",
        "    'Residual': residuals,\n",
        "    'Std_Residual': standardized_residuals\n",
        "})\n",
        "\n",
        "print(residual_df.round(2))\n",
        "print(f\"\\nSum of residuals: {np.sum(residuals):.6f}\")\n",
        "print(f\"Standard error: {std_error:.2f}\")\n",
        "print(f\"Manual calculation: s = 2.12\")"
      ],
      "metadata": {
        "id": "TTLKkSiMWhhD"
      },
      "execution_count": null,
      "outputs": []
    },
    {
      "cell_type": "code",
      "source": [
        "# Print the full summary which includes the ANOVA table\n",
        "print(f\"STATSMODELS SUMMARY:\")\n",
        "print(model_sm.summary())"
      ],
      "metadata": {
        "id": "074lywEtafau"
      },
      "execution_count": null,
      "outputs": []
    },
    {
      "cell_type": "code",
      "source": [
        "# Step 13: Make a prediction (same as manual)\n",
        "new_hours = 11\n",
        "prediction = model.predict([[new_hours]])[0]\n",
        "print(f\"PREDICTION:\")\n",
        "print(f\"For {new_hours} hours of study:\")\n",
        "print(f\"Predicted exam score = {prediction:.2f}\")\n",
        "print(f\"Manual calculation: 85.16\")"
      ],
      "metadata": {
        "id": "CntXqRvxbisC"
      },
      "execution_count": null,
      "outputs": []
    },
    {
      "cell_type": "code",
      "source": [
        "# Step 14: Create visualizations\n",
        "fig, axes = plt.subplots(2, 2, figsize=(12, 10))\n",
        "\n",
        "# 1. Scatterplot with regression line\n",
        "axes[0,0].scatter(X, y, color='blue', alpha=0.7)\n",
        "axes[0,0].plot(X, y_pred, color='red', linewidth=2)\n",
        "axes[0,0].set_xlabel('Study Hours')\n",
        "axes[0,0].set_ylabel('Exam Score')\n",
        "axes[0,0].set_title('Regression Line')\n",
        "axes[0,0].grid(True, alpha=0.3)\n",
        "\n",
        "# 2. Residuals vs Fitted\n",
        "axes[0,1].scatter(y_pred, residuals, color='green', alpha=0.7)\n",
        "axes[0,1].axhline(y=0, color='red', linestyle='--')\n",
        "axes[0,1].set_xlabel('Fitted Values')\n",
        "axes[0,1].set_ylabel('Residuals')\n",
        "axes[0,1].set_title('Residuals vs Fitted')\n",
        "axes[0,1].grid(True, alpha=0.3)\n",
        "\n",
        "# 3. Normal Q-Q plot of residuals\n",
        "stats.probplot(residuals, dist=\"norm\", plot=axes[1,0])\n",
        "axes[1,0].set_title('Normal Q-Q Plot of Residuals')\n",
        "axes[1,0].grid(True, alpha=0.3)\n",
        "\n",
        "# 4. Histogram of residuals\n",
        "axes[1,1].hist(residuals, bins=5, color='orange', alpha=0.7, edgecolor='black')\n",
        "axes[1,1].set_xlabel('Residuals')\n",
        "axes[1,1].set_ylabel('Frequency')\n",
        "axes[1,1].set_title('Distribution of Residuals')\n",
        "axes[1,1].grid(True, alpha=0.3)\n",
        "\n",
        "plt.tight_layout()\n",
        "plt.show()"
      ],
      "metadata": {
        "id": "a4FrQvOFbU11"
      },
      "execution_count": null,
      "outputs": []
    }
  ]
}