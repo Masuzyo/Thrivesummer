{
  "nbformat": 4,
  "nbformat_minor": 0,
  "metadata": {
    "colab": {
      "provenance": [],
      "authorship_tag": "ABX9TyND8p+hPYRQg1u4EJFssOqO",
      "include_colab_link": true
    },
    "kernelspec": {
      "name": "python3",
      "display_name": "Python 3"
    },
    "language_info": {
      "name": "python"
    }
  },
  "cells": [
    {
      "cell_type": "markdown",
      "metadata": {
        "id": "view-in-github",
        "colab_type": "text"
      },
      "source": [
        "<a href=\"https://colab.research.google.com/github/Masuzyo/Thrivesummer/blob/main/Central_Limit_Theorem.ipynb\" target=\"_parent\"><img src=\"https://colab.research.google.com/assets/colab-badge.svg\" alt=\"Open In Colab\"/></a>"
      ]
    },
    {
      "cell_type": "code",
      "execution_count": null,
      "metadata": {
        "id": "s6ZTLbRoMaq-"
      },
      "outputs": [],
      "source": [
        "import numpy as np\n",
        "import matplotlib.pyplot as plt\n",
        "import seaborn as sns\n",
        "import scipy.stats as stats\n",
        "from sklearn.datasets import load_diabetes,load_iris"
      ]
    },
    {
      "cell_type": "markdown",
      "source": [
        "# Central Limit Theorem\n",
        "\n",
        "### Theory\n",
        "The Central Limit Theorem states that the sampling distribution of the sample mean approaches a normal distribution as the sample size increases, regardless of the population's distribution."
      ],
      "metadata": {
        "id": "BI0BlFeUMd3W"
      }
    },
    {
      "cell_type": "markdown",
      "source": [
        "## $χ$-square Distribution"
      ],
      "metadata": {
        "id": "9U1NyhQRPBcq"
      }
    },
    {
      "cell_type": "code",
      "source": [
        "sample_sizes=[5,10,50,1000]\n",
        "n_samples=5000\n",
        "k=1\n",
        "\n",
        "# draw chisquare 1 distribution\n",
        "x=np.linspace(0,4,1000)\n",
        "y=stats.chi(df=k).pdf(x)\n",
        "plt.plot(x,y)\n",
        "plt.show()"
      ],
      "metadata": {
        "id": "1vW1YAQGM268"
      },
      "execution_count": null,
      "outputs": []
    },
    {
      "cell_type": "code",
      "source": [
        "# CLT example sampled from chisq distribution\n",
        "\n",
        "sample_sizes=[5,10,50,1000]\n",
        "n_samples=5000\n",
        "k=1\n",
        "\n",
        "fig, axes = plt.subplots(2, 2, figsize=(12, 10))\n",
        "axes = axes.ravel()\n",
        "\n",
        "for i, n in enumerate(sample_sizes):\n",
        "    sample_means = []\n",
        "    for _ in range(n_samples):\n",
        "        sample = np.random.chisquare(df=k, size=n)\n",
        "        sample_means.append(np.mean(sample))\n",
        "\n",
        "    res=stats.shapiro(sample_means)\n",
        "\n",
        "    axes[i].hist(sample_means, bins=30, density=True, alpha=0.7)\n",
        "    axes[i].set_title(f'Sample Size = {n},p-value={res[1]:.3f}')\n",
        "    axes[i].set_xlabel('Sample Mean')\n",
        "    axes[i].set_ylabel('Density')\n",
        "    axes[i].grid(True)\n",
        "\n",
        "    # Overlay theoretical normal distribution\n",
        "    mu_theory = k\n",
        "    sigma_theory = np.sqrt(2 * k) / np.sqrt(n)\n",
        "\n",
        "    x = np.linspace(min(sample_means), max(sample_means), 100)\n",
        "    axes[i].plot(x, stats.norm.pdf(x, mu_theory, sigma_theory), 'r-', linewidth=2)\n",
        "\n",
        "plt.tight_layout()\n",
        "plt.show()\n",
        "\n"
      ],
      "metadata": {
        "id": "IvT37gTyNFyF"
      },
      "execution_count": null,
      "outputs": []
    },
    {
      "cell_type": "code",
      "source": [
        "diabetes = load_diabetes()\n",
        "population = diabetes.target\n",
        "\n",
        "# Demonstrate CLT with different sample sizes\n",
        "sample_sizes = [5, 10, 30, 1000]\n",
        "n_samples = 5000\n",
        "\n",
        "\n",
        "fig, axes = plt.subplots(2, 2, figsize=(12, 10))\n",
        "axes = axes.ravel()\n",
        "\n",
        "fig.suptitle('Central Limit Theorem Demonstration', fontsize=16)\n",
        "\n",
        "for i, n in enumerate(sample_sizes):\n",
        "    sample_means = []\n",
        "    samples_all=[]\n",
        "    for _ in range(n_samples):\n",
        "        sample = np.random.choice(population, size=n, replace=True)\n",
        "        sample_means.append(np.mean(sample))\n",
        "        samples_all.append(sample)\n",
        "\n",
        "    res=stats.shapiro(sample_means)\n",
        "\n",
        "    axes[i].hist(sample_means, bins=30, density=True, alpha=0.7)\n",
        "    axes[i].set_title(f'Sample Size = {n},p-value={res[1]:.3f}')\n",
        "    axes[i].set_xlabel('Sample Mean')\n",
        "    axes[i].set_ylabel('Density')\n",
        "\n",
        "\n",
        "    # Overlay theoretical normal distribution\n",
        "    mu_theory = np.mean(population)\n",
        "    sigma_theory = np.std(population) / np.sqrt(n)\n",
        "    x = np.linspace(min(sample_means), max(sample_means), 100)\n",
        "    axes[i].plot(x, stats.norm.pdf(x, mu_theory, sigma_theory), 'r-', linewidth=2)\n",
        "\n",
        "plt.tight_layout()\n",
        "plt.show()"
      ],
      "metadata": {
        "id": "xitjDDIKPtrG"
      },
      "execution_count": null,
      "outputs": []
    },
    {
      "cell_type": "markdown",
      "source": [
        "### Exercise 2: Central Limit Theorem Verification\n",
        "**Task**: Using the iris dataset, demonstrate the Central Limit Theorem using petal width measurements.\n",
        "\n",
        "1. Extract petal width data from the iris dataset\n",
        "2. Create sampling distributions for sample sizes: 3, 10, 25, 50\n",
        "3. Plot histograms showing how the sampling distribution becomes more normal\n",
        "4. Calculate the theoretical and empirical means and standard deviations\n",
        "5. Comment on how the sampling distribution changes with sample size\n",
        "\n",
        "**Your Code Here:**"
      ],
      "metadata": {
        "id": "vw5Xu40VQFWW"
      }
    },
    {
      "cell_type": "code",
      "source": [
        "# Load iris dataset\n",
        "iris = load_iris()\n",
        "# Your solution here"
      ],
      "metadata": {
        "id": "oFwJw40FPxhc"
      },
      "execution_count": null,
      "outputs": []
    }
  ]
}