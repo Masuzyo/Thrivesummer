{
  "nbformat": 4,
  "nbformat_minor": 0,
  "metadata": {
    "colab": {
      "provenance": [],
      "authorship_tag": "ABX9TyOwxnciYI3IBO4rPGLE5+eG",
      "include_colab_link": true
    },
    "kernelspec": {
      "name": "python3",
      "display_name": "Python 3"
    },
    "language_info": {
      "name": "python"
    }
  },
  "cells": [
    {
      "cell_type": "markdown",
      "metadata": {
        "id": "view-in-github",
        "colab_type": "text"
      },
      "source": [
        "<a href=\"https://colab.research.google.com/github/Masuzyo/Thrivesummer/blob/main/stat_py_wb02.ipynb\" target=\"_parent\"><img src=\"https://colab.research.google.com/assets/colab-badge.svg\" alt=\"Open In Colab\"/></a>"
      ]
    },
    {
      "cell_type": "markdown",
      "source": [
        "#Lesson 2: Frequency Tables and Data Collection\n",
        "\n",
        "## Learning Objectives\n",
        "- Create frequency tables and summary statistics\n",
        "- Understand levels of measurement\n",
        "\n",
        "## Levels of Measurement\n",
        "\n",
        "In statistics we will come across several types of data all which we will try to analysis. Data ist first divide into  Quantative(relating to a measurable quantity in an observation i.e.temperature,age,height) and Qualitative(relating to a unmeasurable  quality of a observation i.e color, gender,grade of used products).\n",
        "\n",
        "These can further be divde two type each:\n",
        "- Quantitative\n",
        "  * Continuous/Interval Data: temperature,GPA\n",
        "  * Discrete/ Ratio Data: Age, Shoe Size\n",
        "- Qualitative\n",
        "  * Nominal Data: Name,Color,Ingredients\n",
        "  * Ordinal Data: Grade of Product, Agreement with a statement\n",
        "\n",
        "The type of data we have will influnce the types of analysis we can perform so identifying it is crucial in understanding which procedures we will undertake."
      ],
      "metadata": {
        "id": "5jMuO7jcGRyY"
      }
    },
    {
      "cell_type": "code",
      "source": [
        "# Nominal: Categories with no inherent order\n",
        "nominal_data = ['Red', 'Blue', 'Green', 'Red', 'Yellow', 'Blue']\n",
        "\n",
        "# Ordinal: Categories with natural order\n",
        "ordinal_data = ['Poor', 'Fair', 'Good', 'Excellent', 'Good', 'Fair']\n",
        "\n",
        "# Interval: Numeric with equal intervals, no true zero\n",
        "interval_data = [20.3, 25.78, 30, 22.2, 28]  # Temperature in Celsius\n",
        "\n",
        "# Ratio: Numeric with equal intervals and true zero\n",
        "ratio_data = [0, 5, 10, 15, 20]  # Height, weight, income\n",
        "\n",
        "print(\"Data Types Examples:\")\n",
        "print(f\"Nominal: {nominal_data}\")\n",
        "print(f\"Ordinal: {ordinal_data}\")\n",
        "print(f\"Interval: {interval_data}\")\n",
        "print(f\"Ratio: {ratio_data}\")"
      ],
      "metadata": {
        "id": "8acHiMdzGiZ3"
      },
      "execution_count": null,
      "outputs": []
    },
    {
      "cell_type": "code",
      "source": [
        "import pandas as pd\n",
        "\n",
        "student = pd.read_csv(\"https://raw.githubusercontent.com/Masuzyo/Thrivesummer/refs/heads/main/Data/students.csv\")\n",
        "student.head(10)"
      ],
      "metadata": {
        "id": "4z1P9LH2zlDu"
      },
      "execution_count": null,
      "outputs": []
    },
    {
      "cell_type": "markdown",
      "source": [
        "## Frequency Tables"
      ],
      "metadata": {
        "id": "29tfZvTs-8FQ"
      }
    },
    {
      "cell_type": "code",
      "source": [
        "#Frequency Table\n",
        "print(\"Frequency Table\")\n",
        "freq_table= pd.crosstab(index=student['Major'], columns='count',normalize=False)\n",
        "freq_table.reset_index()\n"
      ],
      "metadata": {
        "id": "6IL0XgJfKaaT"
      },
      "execution_count": null,
      "outputs": []
    },
    {
      "cell_type": "code",
      "source": [
        "freq_table['Cumulative_Frequency'] =freq_table['count'].cumsum()\n",
        "freq_table.reset_index()"
      ],
      "metadata": {
        "id": "3gWcSvdg1RRq"
      },
      "execution_count": null,
      "outputs": []
    },
    {
      "cell_type": "code",
      "source": [
        "#Relative Frequency Table\n",
        "print(\"Relative Frequency Table\")\n",
        "rel_freq_table=pd.crosstab(index=student['Major'], columns='count',normalize=True).reset_index()\n",
        "rel_freq_table['Cumulative_Frequency'] =rel_freq_table['count'].cumsum()\n",
        "rel_freq_table"
      ],
      "metadata": {
        "id": "htU0tOMe1axr"
      },
      "execution_count": null,
      "outputs": []
    },
    {
      "cell_type": "code",
      "source": [
        "import numpy as np\n",
        "def create_grouped_frequency_table(data,cols,bin_edges=[],bins=10,normalize=False):\n",
        "    \"\"\"Create grouped frequency table for continuous data\"\"\"\n",
        "    if isinstance(cols, str):\n",
        "        cols = data[cols]\n",
        "\n",
        "    # Create bins\n",
        "    if not bin_edges:\n",
        "        bin_edges = np.linspace(cols.min(), cols.max(), bins + 1)\n",
        "\n",
        "    bin_labels = [f\"{bin_edges[i]:.1f}-{bin_edges[i+1]:.1f}\" for i in range(len(bin_edges)-1)]\n",
        "\n",
        "    # Assign data to bins\n",
        "    data_binned = pd.cut(cols, bins=bin_edges, labels=bin_labels, include_lowest=True)\n",
        "\n",
        "    return pd.crosstab(index=data_binned,columns='count',normalize=normalize).reset_index()\n",
        "\n"
      ],
      "metadata": {
        "id": "Gu2PY0bt5dRR"
      },
      "execution_count": null,
      "outputs": []
    },
    {
      "cell_type": "code",
      "source": [
        "create_grouped_frequency_table(student,\"GPA\",bins=5)"
      ],
      "metadata": {
        "id": "g8qdxuUW_T4b"
      },
      "execution_count": null,
      "outputs": []
    },
    {
      "cell_type": "code",
      "source": [
        "create_grouped_frequency_table(student,\"GPA\",bin_edges=[0,1,2,3,4])"
      ],
      "metadata": {
        "id": "QnDYjZ6-_bqd"
      },
      "execution_count": null,
      "outputs": []
    },
    {
      "cell_type": "code",
      "source": [
        "gpa_freq_table=create_grouped_frequency_table(student,\"GPA\",bin_edges=[0,1,2,3,4])\n",
        "gpa_freq_table['Cumulative_Frequency'] =gpa_freq_table['count'].cumsum()\n",
        "gpa_freq_table"
      ],
      "metadata": {
        "id": "0EqvLnlxBUP2"
      },
      "execution_count": null,
      "outputs": []
    },
    {
      "cell_type": "code",
      "source": [
        "gpa_rel_freq_table=create_grouped_frequency_table(student,\"GPA\",bin_edges=[0,1,2,3,4],normalize=True)\n",
        "gpa_rel_freq_table"
      ],
      "metadata": {
        "id": "AjQ5fGOND2Xl"
      },
      "execution_count": null,
      "outputs": []
    },
    {
      "cell_type": "code",
      "source": [
        "gpa_rel_freq_table['Cumulative_Frequency'] =gpa_rel_freq_table['count'].cumsum()\n",
        "gpa_rel_freq_table"
      ],
      "metadata": {
        "id": "wYWkCHnYEAzo"
      },
      "execution_count": null,
      "outputs": []
    },
    {
      "cell_type": "markdown",
      "source": [
        "## Summary Tables"
      ],
      "metadata": {
        "id": "czklr2wvKYQN"
      }
    },
    {
      "cell_type": "code",
      "source": [
        "student.describe()"
      ],
      "metadata": {
        "id": "-FI-TlvjKNxZ"
      },
      "execution_count": null,
      "outputs": []
    },
    {
      "cell_type": "code",
      "source": [
        "student.describe(include='all')"
      ],
      "metadata": {
        "id": "J5vHkdJALMUq"
      },
      "execution_count": null,
      "outputs": []
    },
    {
      "cell_type": "code",
      "source": [
        "student.describe(include='object')"
      ],
      "metadata": {
        "id": "rw4G8k5YLWSU"
      },
      "execution_count": null,
      "outputs": []
    },
    {
      "cell_type": "markdown",
      "source": [
        "## Exercise 1"
      ],
      "metadata": {
        "id": "6qrzppFpGkeN"
      }
    },
    {
      "cell_type": "code",
      "source": [
        "habits= pd.read_csv(\"https://raw.githubusercontent.com/Masuzyo/Thrivesummer/refs/heads/main/Data/daily_habits.csv\")\n",
        "habits.head(10)"
      ],
      "metadata": {
        "id": "btiSvbLLG1bv"
      },
      "execution_count": null,
      "outputs": []
    },
    {
      "cell_type": "markdown",
      "source": [
        "* Create a frequency table for the number of Cups  of Coffee based on the habits dataset"
      ],
      "metadata": {
        "id": "CnmRImA6JAHp"
      }
    },
    {
      "cell_type": "code",
      "source": [],
      "metadata": {
        "id": "-Atg6RxMJm7Q"
      },
      "execution_count": null,
      "outputs": []
    },
    {
      "cell_type": "markdown",
      "source": [
        "* Create a Grouped frequency table for Exercise Minutes based on the habits dataset"
      ],
      "metadata": {
        "id": "no206hrmJnc7"
      }
    },
    {
      "cell_type": "code",
      "source": [],
      "metadata": {
        "id": "6pVt_zLZJ-Be"
      },
      "execution_count": null,
      "outputs": []
    },
    {
      "cell_type": "markdown",
      "source": [
        "* Create a summary table for habits data"
      ],
      "metadata": {
        "id": "0gpjcEM6LnSL"
      }
    },
    {
      "cell_type": "code",
      "source": [],
      "metadata": {
        "id": "K0ZA1D0vMu7K"
      },
      "execution_count": null,
      "outputs": []
    },
    {
      "cell_type": "markdown",
      "source": [
        "* Create a grouped relative frequency table for hours slept on Tuesdays\n"
      ],
      "metadata": {
        "id": "PfDO9_3nMvUy"
      }
    },
    {
      "cell_type": "code",
      "source": [],
      "metadata": {
        "id": "3YqlftmyNGl3"
      },
      "execution_count": null,
      "outputs": []
    },
    {
      "cell_type": "markdown",
      "source": [
        "## Data Visualisation\n",
        "### Learning Objectives\n",
        "- Create stem-and-leaf plots\n",
        "- Build line graphs, bar graphs, and histograms\n",
        "- Understand when to use different visualization types\n"
      ],
      "metadata": {
        "id": "LsXsuTPjFQK3"
      }
    },
    {
      "cell_type": "markdown",
      "source": [
        "### Stem and Leaf Plot"
      ],
      "metadata": {
        "id": "4vCwRijqGFwx"
      }
    },
    {
      "cell_type": "code",
      "source": [
        "import sys\n",
        "!{sys.executable} -m pip install stemgraphic"
      ],
      "metadata": {
        "id": "zj4q4fs6Qz5e"
      },
      "execution_count": null,
      "outputs": []
    },
    {
      "cell_type": "code",
      "source": [
        "import stemgraphic"
      ],
      "metadata": {
        "id": "6jzMayayNnKD"
      },
      "execution_count": null,
      "outputs": []
    },
    {
      "cell_type": "code",
      "source": [
        "stemgraphic.stem_graphic(student['GPA'].head(30), scale =1 )"
      ],
      "metadata": {
        "id": "rLqBllQJRCGF"
      },
      "execution_count": null,
      "outputs": []
    },
    {
      "cell_type": "code",
      "source": [
        "def create_stem_leaf_plot(data, scale=1):\n",
        "    \"\"\"Create a stem-and-leaf plot\"\"\"\n",
        "    # Convert to integers if needed\n",
        "    if isinstance(data, pd.Series):\n",
        "        values = data.values\n",
        "    else:\n",
        "        values = np.array(data)\n",
        "\n",
        "    # Scale the data\n",
        "    scaled_values = np.round((values / scale)).astype(int)\n",
        "\n",
        "    # Create stems and leaves\n",
        "    stems = scaled_values // 10\n",
        "    leaves = scaled_values % 10\n",
        "\n",
        "    # Group by stems\n",
        "    stem_leaf_dict = {}\n",
        "    for stem, leaf in zip(stems, leaves):\n",
        "        if stem not in stem_leaf_dict:\n",
        "            stem_leaf_dict[stem] = []\n",
        "        stem_leaf_dict[stem].append(leaf)\n",
        "\n",
        "    # Sort and display\n",
        "    print(f\"Stem-and-Leaf Plot (Scale: 1 unit = {scale})\")\n",
        "    print(\"Stem | Leaves\")\n",
        "    print(\"-\" * 40)\n",
        "\n",
        "    for stem in sorted(stem_leaf_dict.keys()):\n",
        "        leaves_sorted = sorted(stem_leaf_dict[stem])\n",
        "        leaves_str = ' '.join(map(str, leaves_sorted))\n",
        "        print(f\"{stem:4d} | {leaves_str}\")\n",
        "\n",
        "    return stem_leaf_dict"
      ],
      "metadata": {
        "id": "z2wLdQ36Tt9x"
      },
      "execution_count": null,
      "outputs": []
    },
    {
      "cell_type": "code",
      "source": [
        "test_scores = [72, 85, 90, 68, 77, 82, 88, 95, 73, 81, 87, 92, 76, 83, 89]\n",
        "print(\"Test Scores Stem-and-Leaf Plot:\")\n",
        "stem=create_stem_leaf_plot(test_scores,scale=1)"
      ],
      "metadata": {
        "id": "rCu5hj-ZT0fI"
      },
      "execution_count": null,
      "outputs": []
    },
    {
      "cell_type": "code",
      "source": [
        "stem2=create_stem_leaf_plot(student['GPA'].head(30), scale=.1)"
      ],
      "metadata": {
        "id": "mnL4BXIKUO2G"
      },
      "execution_count": null,
      "outputs": []
    },
    {
      "cell_type": "markdown",
      "source": [
        "\n",
        "## Bar Graphs and Histograms\n"
      ],
      "metadata": {
        "id": "MsT77purWPSP"
      }
    },
    {
      "cell_type": "code",
      "source": [
        "import matplotlib.pyplot as plt"
      ],
      "metadata": {
        "id": "GIuhRNsVXTid"
      },
      "execution_count": null,
      "outputs": []
    },
    {
      "cell_type": "markdown",
      "source": [
        "### Bar Graph for Categorical Data"
      ],
      "metadata": {
        "id": "J1szRI4BWsic"
      }
    },
    {
      "cell_type": "code",
      "source": [
        "student['Major'].value_counts().plot(kind='bar')\n",
        "plt.show()"
      ],
      "metadata": {
        "id": "q_Jg7MnwWppg"
      },
      "execution_count": null,
      "outputs": []
    },
    {
      "cell_type": "code",
      "source": [
        "plt.bar(student['Major'].value_counts().index,student['Major'].value_counts())\n",
        "plt.show()"
      ],
      "metadata": {
        "id": "zND6dFGtXqr-"
      },
      "execution_count": null,
      "outputs": []
    },
    {
      "cell_type": "code",
      "source": [
        "plt.bar(student['Major'].value_counts().index,student['Major'].value_counts())\n",
        "plt.tick_params(axis='x', rotation=45)\n",
        "plt.show()"
      ],
      "metadata": {
        "id": "W59Gd_r4YDd-"
      },
      "execution_count": null,
      "outputs": []
    },
    {
      "cell_type": "code",
      "source": [
        "plt.bar(student['Major'].value_counts().index,student['Major'].value_counts())\n",
        "plt.xlabel('Major')\n",
        "plt.ylabel('Count')\n",
        "plt.title('Major Distribution')\n",
        "plt.tick_params(axis='x', rotation=45)\n",
        "plt.show()"
      ],
      "metadata": {
        "id": "c5drO860YJds"
      },
      "execution_count": null,
      "outputs": []
    },
    {
      "cell_type": "markdown",
      "source": [
        "## 2. Histogram for Continuous Data"
      ],
      "metadata": {
        "id": "x98MHkc2YvG7"
      }
    },
    {
      "cell_type": "code",
      "source": [
        "student['Study_Hours_Per_Week'].plot(kind='hist')\n",
        "plt.show()"
      ],
      "metadata": {
        "id": "vE0wD2KBYsju"
      },
      "execution_count": null,
      "outputs": []
    },
    {
      "cell_type": "code",
      "source": [
        "plt.hist(student['Study_Hours_Per_Week'])\n",
        "plt.title('Study Hours Histogram')\n",
        "plt.xlabel('Study Hours')\n",
        "plt.ylabel('Frequency')\n",
        "plt.show()"
      ],
      "metadata": {
        "id": "zfQbVKzoZC4C"
      },
      "execution_count": null,
      "outputs": []
    },
    {
      "cell_type": "code",
      "source": [
        "plt.hist(student['Study_Hours_Per_Week'], bins=20, color='lightgreen',\n",
        "                edgecolor='darkgreen', alpha=0.7)\n",
        "plt.title('Study Hours Histogram')\n",
        "plt.xlabel('Study Hours')\n",
        "plt.ylabel('Frequency')\n",
        "plt.show()"
      ],
      "metadata": {
        "id": "sFAsEiwCZSzs"
      },
      "execution_count": null,
      "outputs": []
    },
    {
      "cell_type": "markdown",
      "source": [
        "### Line Graph"
      ],
      "metadata": {
        "id": "vvwJ4_ibdotv"
      }
    },
    {
      "cell_type": "code",
      "source": [
        "habits.loc[habits['PersonID']==1,'Productivity_Rating'].plot(kind='line',color='red')\n",
        "plt.title('Productivity Rating Over Time')\n",
        "plt.xlabel('Day')\n",
        "plt.ylabel('Productivity Rating')\n",
        "plt.show()"
      ],
      "metadata": {
        "id": "gHbYlXqCg4HO"
      },
      "execution_count": null,
      "outputs": []
    },
    {
      "cell_type": "code",
      "source": [
        "plt.plot(habits.loc[habits['PersonID']==2,'Day'] ,habits.loc[habits['PersonID']==2,'Productivity_Rating'],color='red')\n",
        "plt.title('Productivity Rating Over Time')\n",
        "plt.xlabel('Day')\n",
        "plt.ylabel('Productivity Rating')\n",
        "plt.xticks(range(len(habits.loc[habits['PersonID']==2,'Productivity_Rating'])),labels=habits.loc[habits['PersonID']==2,'DayOfWeek'])\n",
        "plt.tick_params(axis='x', rotation=90)\n",
        "plt.show()"
      ],
      "metadata": {
        "id": "d9dy-1Vmj9gn"
      },
      "execution_count": null,
      "outputs": []
    },
    {
      "cell_type": "code",
      "source": [
        "habits.head()"
      ],
      "metadata": {
        "id": "-AO9Pkpdlyn-"
      },
      "execution_count": null,
      "outputs": []
    },
    {
      "cell_type": "code",
      "source": [],
      "metadata": {
        "id": "KBZcQVgzoB-c"
      },
      "execution_count": null,
      "outputs": []
    },
    {
      "cell_type": "markdown",
      "source": [
        "### Mixed Graph"
      ],
      "metadata": {
        "id": "1sKz9cemoCpi"
      }
    },
    {
      "cell_type": "code",
      "source": [
        "age_groups = ['18-25', '26-35', '36-45', '46-55', '55+']\n",
        "male_counts = [15, 25, 20, 12, 8]\n",
        "female_counts = [18, 22, 18, 15, 7]\n",
        "\n",
        "x = np.arange(len(age_groups))\n",
        "width = 0.35\n",
        "\n",
        "plt.bar(x - width/2, male_counts, width, label='Male', color='lightblue')\n",
        "plt.bar(x + width/2, female_counts, width, label='Female', color='pink')\n",
        "plt.title('Survey Responses by Age Group and Gender')\n",
        "plt.xlabel('Age Group')\n",
        "plt.ylabel('Number of Responses')\n",
        "plt.xticks(x,age_groups)\n",
        "plt.legend()\n",
        "\n",
        "plt.tight_layout()\n",
        "plt.show()"
      ],
      "metadata": {
        "id": "zDxGDiUkdi15"
      },
      "execution_count": null,
      "outputs": []
    },
    {
      "cell_type": "markdown",
      "source": [
        "### Box Plot\n"
      ],
      "metadata": {
        "id": "bSkEC-UboHTx"
      }
    },
    {
      "cell_type": "code",
      "source": [
        "student.boxplot(column='GPA',by='Year')\n",
        "plt.title(\"GPA by Year\")\n",
        "plt.ylabel(\"GPA\")\n",
        "plt.show()"
      ],
      "metadata": {
        "id": "q1PMYP6aobhZ"
      },
      "execution_count": null,
      "outputs": []
    },
    {
      "cell_type": "markdown",
      "source": [
        "# Scatter plot"
      ],
      "metadata": {
        "id": "nX7Zgq3tpD7b"
      }
    },
    {
      "cell_type": "code",
      "source": [
        "student.plot(kind='scatter',x='Study_Hours_Per_Week',y='GPA')\n",
        "\n",
        "plt.show()"
      ],
      "metadata": {
        "id": "g2z7at8TpOkJ"
      },
      "execution_count": null,
      "outputs": []
    },
    {
      "cell_type": "markdown",
      "source": [
        "### Stacked Bar Chart"
      ],
      "metadata": {
        "id": "EGw0sHbpqSud"
      }
    },
    {
      "cell_type": "code",
      "source": [
        "student.groupby(['Year','Major']).size().unstack().plot(kind='bar',stacked=True)\n",
        "plt.show()"
      ],
      "metadata": {
        "id": "AX1p5NjHqbdO"
      },
      "execution_count": null,
      "outputs": []
    },
    {
      "cell_type": "markdown",
      "source": [
        "# Histogram with Density Curve"
      ],
      "metadata": {
        "id": "LKmqYyNfrdet"
      }
    },
    {
      "cell_type": "code",
      "source": [
        "student['Study_Hours_Per_Week'].plot(kind='hist',density=True,color='lightgreen',edgecolor='darkgreen',alpha=0.7)\n",
        "student['Study_Hours_Per_Week'].plot(kind='kde',color='red')\n",
        "plt.title('Study Hours Histogram with Density Curve')\n",
        "plt.xlabel('Study Hours')\n",
        "plt.show()"
      ],
      "metadata": {
        "id": "7h1J9UMmrLwp"
      },
      "execution_count": null,
      "outputs": []
    },
    {
      "cell_type": "markdown",
      "source": [
        "## Exercise 2"
      ],
      "metadata": {
        "id": "f6gLvKbmr3gP"
      }
    },
    {
      "cell_type": "markdown",
      "source": [
        "*  Using the habits data set create a histogram of Sleep hours"
      ],
      "metadata": {
        "id": "tWYHwdADr-kB"
      }
    },
    {
      "cell_type": "code",
      "source": [],
      "metadata": {
        "id": "l-HQDFBBsPl7"
      },
      "execution_count": null,
      "outputs": []
    },
    {
      "cell_type": "markdown",
      "source": [
        " * Using the habits data set create a bar chat of Daily Coffee Consumption"
      ],
      "metadata": {
        "id": "6Bqvh0MUsPu_"
      }
    },
    {
      "cell_type": "code",
      "source": [],
      "metadata": {
        "id": "LdOZsw27sZpE"
      },
      "execution_count": null,
      "outputs": []
    },
    {
      "cell_type": "markdown",
      "source": [
        "* Using habits data create a Line graph of Exercise time over days"
      ],
      "metadata": {
        "id": "JEKl2XBSsaYg"
      }
    },
    {
      "cell_type": "code",
      "source": [],
      "metadata": {
        "id": "OXDTEXihtHkP"
      },
      "execution_count": null,
      "outputs": []
    },
    {
      "cell_type": "markdown",
      "source": [
        "* Screen time vs Sleep hours (scatter)"
      ],
      "metadata": {
        "id": "8GH5JH8xs_Sb"
      }
    },
    {
      "cell_type": "code",
      "source": [],
      "metadata": {
        "id": "26vfr1TPtJ25"
      },
      "execution_count": null,
      "outputs": []
    },
    {
      "cell_type": "markdown",
      "source": [
        "* Mood rating over time"
      ],
      "metadata": {
        "id": "etliLkcPtNsV"
      }
    },
    {
      "cell_type": "code",
      "source": [],
      "metadata": {
        "id": "WnrHCkhGtbPp"
      },
      "execution_count": null,
      "outputs": []
    },
    {
      "cell_type": "markdown",
      "source": [
        "* Create a steam and leaf plot of the following"
      ],
      "metadata": {
        "id": "gmmifaHFteJY"
      }
    },
    {
      "cell_type": "code",
      "source": [
        "heights = [158, 162, 165, 167, 170, 172, 175, 178, 180, 183, 185, 188, 191]"
      ],
      "metadata": {
        "id": "FYevjizMtdIm"
      },
      "execution_count": null,
      "outputs": []
    },
    {
      "cell_type": "code",
      "source": [
        "temperatures = [23, 25, 27, 29, 31, 33, 35, 37, 39, 41, 43, 45]"
      ],
      "metadata": {
        "id": "8BZ_y8Y_ttva"
      },
      "execution_count": null,
      "outputs": []
    }
  ]
}