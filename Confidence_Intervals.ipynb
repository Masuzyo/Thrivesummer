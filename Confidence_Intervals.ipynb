{
  "nbformat": 4,
  "nbformat_minor": 0,
  "metadata": {
    "colab": {
      "provenance": [],
      "authorship_tag": "ABX9TyPPN2A1yQyWkWMrJqLujPCo",
      "include_colab_link": true
    },
    "kernelspec": {
      "name": "python3",
      "display_name": "Python 3"
    },
    "language_info": {
      "name": "python"
    }
  },
  "cells": [
    {
      "cell_type": "markdown",
      "metadata": {
        "id": "view-in-github",
        "colab_type": "text"
      },
      "source": [
        "<a href=\"https://colab.research.google.com/github/Masuzyo/Thrivesummer/blob/main/Confidence_Intervals.ipynb\" target=\"_parent\"><img src=\"https://colab.research.google.com/assets/colab-badge.svg\" alt=\"Open In Colab\"/></a>"
      ]
    },
    {
      "cell_type": "code",
      "execution_count": 2,
      "metadata": {
        "id": "b1XJ6TCjQ4w9"
      },
      "outputs": [],
      "source": [
        "import numpy as np\n",
        "import matplotlib.pyplot as plt\n",
        "import seaborn as sns\n",
        "from sklearn.datasets import load_iris, load_diabetes\n",
        "import scipy.stats as stats\n",
        "import pandas as pd"
      ]
    },
    {
      "cell_type": "markdown",
      "source": [
        "# Confidence Intervals\n",
        "\n",
        "### Theory\n",
        "A confidence interval provides a range of values that likely contains the true population parameter with a specified level of confidence."
      ],
      "metadata": {
        "id": "OjXBGLSWQ8rq"
      }
    },
    {
      "cell_type": "code",
      "source": [
        "# Load iris dataset\n",
        "iris = load_iris()\n",
        "sepal_length = iris.data[:, 0]\n",
        "\n",
        "# Calculate 95% confidence interval for the mean\n",
        "n = len(sepal_length)\n",
        "mean = np.mean(sepal_length)\n",
        "std_err = stats.sem(sepal_length)  # Standard error of the mean\n",
        "\n",
        "print(f\"Sample mean: {mean:.3f}\")\n",
        "print(f\"Sample standard deviation: {std_err:.3f}\")\n"
      ],
      "metadata": {
        "colab": {
          "base_uri": "https://localhost:8080/"
        },
        "id": "juDXb5L_RWM7",
        "outputId": "a4a5e569-c6ee-41da-bd43-c10c503d0ed4"
      },
      "execution_count": 3,
      "outputs": [
        {
          "output_type": "stream",
          "name": "stdout",
          "text": [
            "Sample mean: 5.843\n",
            "Sample standard deviation: 0.068\n"
          ]
        }
      ]
    },
    {
      "cell_type": "code",
      "source": [
        "# 95% confidence interval\n",
        "confidence_level = 0.95\n",
        "alpha = 1 - confidence_level\n",
        "t_critical = stats.t.ppf(1 - alpha/2, df=n-1)\n",
        "\n",
        "margin_of_error = t_critical * std_err\n",
        "ci_lower = mean - margin_of_error\n",
        "ci_upper = mean + margin_of_error\n",
        "\n",
        "print(f\"95% Confidence Interval: ({ci_lower:.3f}, {ci_upper:.3f})\")\n",
        "print(f\"Margin of Error: {margin_of_error:.3f}\")\n"
      ],
      "metadata": {
        "id": "95zzy-l2Ra6M"
      },
      "execution_count": null,
      "outputs": []
    },
    {
      "cell_type": "markdown",
      "source": [
        "## Quick exercise\n",
        "Create a 90% CI for sepal width"
      ],
      "metadata": {
        "id": "c6yS5l6xRwZ8"
      }
    },
    {
      "cell_type": "code",
      "source": [
        "iris.feature_names()\n",
        "sepal_width = iris.data[:, 1]"
      ],
      "metadata": {
        "colab": {
          "base_uri": "https://localhost:8080/"
        },
        "id": "DLMjBnoHR-aP",
        "outputId": "adcacab6-a8dd-4060-d334-4e6a41030646"
      },
      "execution_count": 5,
      "outputs": [
        {
          "output_type": "execute_result",
          "data": {
            "text/plain": [
              "['sepal length (cm)',\n",
              " 'sepal width (cm)',\n",
              " 'petal length (cm)',\n",
              " 'petal width (cm)']"
            ]
          },
          "metadata": {},
          "execution_count": 5
        }
      ]
    },
    {
      "cell_type": "markdown",
      "source": [
        "## Exercise 3: Confidence Interval Construction\n",
        "**Task**: Using the diabetes dataset, construct different types of confidence intervals.\n",
        "\n",
        "1. **Mean CI**: Calculate 90%, 95%, and 99% confidence intervals for the mean target variable"
      ],
      "metadata": {
        "id": "346v8LYXTlZx"
      }
    }
  ]
}