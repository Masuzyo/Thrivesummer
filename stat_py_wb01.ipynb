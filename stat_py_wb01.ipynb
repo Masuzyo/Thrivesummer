{
  "nbformat": 4,
  "nbformat_minor": 0,
  "metadata": {
    "colab": {
      "provenance": [],
      "authorship_tag": "ABX9TyPTHHk7UE8a5WIpvtMATZ5F",
      "include_colab_link": true
    },
    "kernelspec": {
      "name": "python3",
      "display_name": "Python 3"
    },
    "language_info": {
      "name": "python"
    }
  },
  "cells": [
    {
      "cell_type": "markdown",
      "metadata": {
        "id": "view-in-github",
        "colab_type": "text"
      },
      "source": [
        "<a href=\"https://colab.research.google.com/github/Masuzyo/Thrivesummer/blob/main/stat_py_wb01.ipynb\" target=\"_parent\"><img src=\"https://colab.research.google.com/assets/colab-badge.svg\" alt=\"Open In Colab\"/></a>"
      ]
    },
    {
      "cell_type": "markdown",
      "source": [
        "# Lesson 1 - Data\n",
        "\n",
        "The first thing you need if you are going to undergo any statistical analysis you will need to be able to interact with your data. In Python there are many ways to get data such as:  \n",
        "\n",
        "* manual entry\n",
        "* generating it in python,\n",
        "* importing existing data set\n",
        "* scrapping it directly from the web.\n",
        "\n",
        "To perform these manupilation  we use libraries of code that have be pre-written such as `pandas`. So the first thing we need to do is import the library."
      ],
      "metadata": {
        "id": "17B11z4s1jJM"
      }
    },
    {
      "cell_type": "code",
      "source": [
        "import pandas as pd"
      ],
      "metadata": {
        "id": "DY5g8RIZ3sLZ"
      },
      "execution_count": null,
      "outputs": []
    },
    {
      "cell_type": "markdown",
      "source": [
        "Here we import  the pandas library and assgin it the short hand pd"
      ],
      "metadata": {
        "id": "oaZG3eIF3vbq"
      }
    },
    {
      "cell_type": "markdown",
      "source": [
        "## Importing Data with *Pandas*"
      ],
      "metadata": {
        "id": "RQOUSfrz4Mrr"
      }
    },
    {
      "cell_type": "code",
      "source": [
        "# Creating sample data\n",
        "sample_data = {\n",
        "    'Name': ['Alice', 'Bob', 'Charlie', 'Diana', 'Eve',\"Mark\"],\n",
        "    'Age': [25, 30, 35, 28, 32, 27],\n",
        "    'Salary': [50000, 60000, 75000, 55000, 68000,82000],\n",
        "    'Department': ['HR', 'IT', 'Finance', 'HR', 'IT','Finance']\n",
        "}\n",
        "workers = pd.DataFrame(sample_data)\n",
        "print(workers.head())"
      ],
      "metadata": {
        "id": "Z0BKnWLw_V01"
      },
      "execution_count": null,
      "outputs": []
    },
    {
      "cell_type": "code",
      "source": [
        "print(f\"\\nDataFrame shape: {workers.shape}\")"
      ],
      "metadata": {
        "id": "kfFlMi5DAdAm"
      },
      "execution_count": null,
      "outputs": []
    },
    {
      "cell_type": "code",
      "source": [
        "print(f\"Column names: {list(workers.columns)}\")"
      ],
      "metadata": {
        "id": "E1Bul_NyAgDi"
      },
      "execution_count": null,
      "outputs": []
    },
    {
      "cell_type": "code",
      "source": [
        "iris_csv=pd.read_csv('https://raw.githubusercontent.com/Masuzyo/Thrivesummer/refs/heads/main/Data/Iris.csv')\n",
        "iris_csv.head()"
      ],
      "metadata": {
        "id": "durCa-As5h4C"
      },
      "execution_count": null,
      "outputs": []
    },
    {
      "cell_type": "code",
      "source": [
        "print(f\"\\nDataFrame shape: {iris_csv.shape}\")"
      ],
      "metadata": {
        "id": "xut3H9AXAEv6"
      },
      "execution_count": null,
      "outputs": []
    },
    {
      "cell_type": "code",
      "source": [
        "iris_excel = pd.read_excel('https://raw.githubusercontent.com/Masuzyo/Thrivesummer/refs/heads/main/Data/Iris.xlsx')\n",
        "iris_excel.head()"
      ],
      "metadata": {
        "id": "mgAQL45T7UfH"
      },
      "execution_count": null,
      "outputs": []
    },
    {
      "cell_type": "code",
      "source": [
        "print(f\"\\nDataFrame shape: {iris_excel.shape}\")"
      ],
      "metadata": {
        "id": "29IIBUcJAMhf"
      },
      "execution_count": null,
      "outputs": []
    },
    {
      "cell_type": "code",
      "source": [
        "import pandas as pd\n",
        "import random\n",
        "\n",
        "random.seed(267)\n",
        "\n",
        "def generate_workers(num_entries):\n",
        "\n",
        "    first_names = ['Alice', 'Bob', 'Charlie', 'Diana', 'Eve', 'Mark', 'Grace', 'Frank', 'Hannah', 'Ivan']\n",
        "    last_names = ['Smith', 'Johnson', 'Williams', 'Brown', 'Taylor', 'Anderson', 'Lee', 'Walker', 'Hall', 'Young']\n",
        "    departments = ['HR', 'IT', 'Finance', 'Marketing', 'Sales']\n",
        "\n",
        "    data = {\n",
        "        'First_Name': [random.choice(first_names) for _ in range(num_entries)],\n",
        "        'Last_Name':[ random.choice(last_names) for _ in range(num_entries)],\n",
        "        'Age': [random.randint(22, 60) for _ in range(num_entries)],\n",
        "        'Salary': [random.randint(40, 100) * 1000 for _ in range(num_entries)],  # Salary in $1000 increments\n",
        "        'Department': [random.choice(departments) for _ in range(num_entries)]\n",
        "    }\n",
        "\n",
        "    return pd.DataFrame(data)\n",
        "\n",
        "# Example usage\n",
        "n = 40  # Change to any number of entries you want\n",
        "workers = generate_workers(n)\n",
        "print(workers.head(10))\n"
      ],
      "metadata": {
        "id": "ZsTaF24ZF3my"
      },
      "execution_count": null,
      "outputs": []
    },
    {
      "cell_type": "markdown",
      "source": [
        "## Subsetting Datasets\n",
        "\n",
        "Subsetting is one of the most important skills in data manuplation, Find all in employees in HR or  all student with a GPA greater than *3.5*"
      ],
      "metadata": {
        "id": "OVbUBpUeBTkN"
      }
    },
    {
      "cell_type": "markdown",
      "source": [
        "### Subsetting by Column"
      ],
      "metadata": {
        "id": "Q95emaD1Do-m"
      }
    },
    {
      "cell_type": "code",
      "source": [
        "workers['Salary'].head()"
      ],
      "metadata": {
        "id": "src9b1-2Dcyh"
      },
      "execution_count": null,
      "outputs": []
    },
    {
      "cell_type": "code",
      "source": [
        "workers[['First_Name', 'Age','Department']].head()"
      ],
      "metadata": {
        "id": "FldnQQTNIwN3"
      },
      "execution_count": null,
      "outputs": []
    },
    {
      "cell_type": "markdown",
      "source": [
        "### Filter rows"
      ],
      "metadata": {
        "id": "0Zy2jqYlK79v"
      }
    },
    {
      "cell_type": "code",
      "source": [
        "workers[workers['Age'] < 30]"
      ],
      "metadata": {
        "id": "dWKLthHHKtED"
      },
      "execution_count": null,
      "outputs": []
    },
    {
      "cell_type": "code",
      "source": [
        "workers[workers['Department'] == 'HR']"
      ],
      "metadata": {
        "id": "MZ6IG0XtLKIX"
      },
      "execution_count": null,
      "outputs": []
    },
    {
      "cell_type": "code",
      "source": [
        "workers[(workers['Age'] < 30) & (workers['Department'] == 'HR')]"
      ],
      "metadata": {
        "id": "EC0E6r2RLQPa"
      },
      "execution_count": null,
      "outputs": []
    },
    {
      "cell_type": "code",
      "source": [
        "workers[(workers['Age'] < 30) | (workers['Department'] == 'HR')]"
      ],
      "metadata": {
        "id": "2EHCg99cMmDD"
      },
      "execution_count": null,
      "outputs": []
    },
    {
      "cell_type": "markdown",
      "source": [
        "### Select specific rows and columns"
      ],
      "metadata": {
        "id": "r1DQNDRiNst2"
      }
    },
    {
      "cell_type": "code",
      "source": [
        "workers.loc[0:4, ['First_Name', 'Age']]"
      ],
      "metadata": {
        "id": "lh478XYAONJ5"
      },
      "execution_count": null,
      "outputs": []
    },
    {
      "cell_type": "code",
      "source": [
        "workers.loc[workers['Department'] == 'HR', ['First_Name', 'Age']]"
      ],
      "metadata": {
        "id": "4zBcJL6jOXmL"
      },
      "execution_count": null,
      "outputs": []
    },
    {
      "cell_type": "code",
      "source": [
        "workers.iloc[0:4, 0:3]"
      ],
      "metadata": {
        "id": "reoMEBvwOiq2"
      },
      "execution_count": null,
      "outputs": []
    },
    {
      "cell_type": "code",
      "source": [
        "workers.iloc[0:4, [0, 2]]"
      ],
      "metadata": {
        "id": "H5u3VhyhOrbt"
      },
      "execution_count": null,
      "outputs": []
    },
    {
      "cell_type": "markdown",
      "source": [
        "## Exercise 1\n",
        "Import the following dataset and call it auto_mg `'hf://datasets/scikit-learn/auto-mpg/auto-mpg.csv'`"
      ],
      "metadata": {
        "id": "q73-88zpO5GD"
      }
    },
    {
      "cell_type": "code",
      "source": [],
      "metadata": {
        "id": "VhTg5mypPsW8"
      },
      "execution_count": null,
      "outputs": []
    },
    {
      "cell_type": "markdown",
      "source": [
        "* How many rows and columns does the dataset have?"
      ],
      "metadata": {
        "id": "a6BHnRnLQkhY"
      }
    },
    {
      "cell_type": "code",
      "source": [],
      "metadata": {
        "id": "GtGhgXLsQ9r5"
      },
      "execution_count": null,
      "outputs": []
    },
    {
      "cell_type": "markdown",
      "source": [
        "* Create a new dataset called specs with `mpg, cylinders, displacement, weight and model year`"
      ],
      "metadata": {
        "id": "j9eUS_4RRAAK"
      }
    },
    {
      "cell_type": "code",
      "source": [],
      "metadata": {
        "collapsed": true,
        "id": "2lkMeJ85RrWe"
      },
      "execution_count": null,
      "outputs": []
    },
    {
      "cell_type": "code",
      "source": [],
      "metadata": {
        "id": "ag3e6A_eUVc_"
      },
      "execution_count": null,
      "outputs": []
    },
    {
      "cell_type": "markdown",
      "source": [
        "* Find the names of car with `8 or more` cylinders and weight under `3200kg`"
      ],
      "metadata": {
        "id": "pKQ3YwaIUWSo"
      }
    },
    {
      "cell_type": "code",
      "source": [],
      "metadata": {
        "id": "CrnpbUzrSS7y"
      },
      "execution_count": null,
      "outputs": []
    },
    {
      "cell_type": "markdown",
      "source": [
        "## Data Sampling in Python"
      ],
      "metadata": {
        "id": "IFSsAi-S4Bcu"
      }
    },
    {
      "cell_type": "code",
      "source": [
        "import random\n",
        "import pandas as pd\n",
        "\n",
        "\n",
        "sample_size=10\n",
        "\n",
        "print(\"Original data:\")\n",
        "print(workers.head())\n",
        "print(f\"\\nDataFrame shape: {workers.shape}\")"
      ],
      "metadata": {
        "id": "v-XlPM_0XiFR"
      },
      "execution_count": null,
      "outputs": []
    },
    {
      "cell_type": "markdown",
      "source": [
        "### Simple Random Sampling"
      ],
      "metadata": {
        "id": "eCAVYDOlXRIf"
      }
    },
    {
      "cell_type": "code",
      "source": [
        "print(\"\\nSimple random sample (n=3):\")\n",
        "simple_random_sample=workers.sample(n=sample_size, random_state=232)\n",
        "print(simple_random_sample)"
      ],
      "metadata": {
        "id": "nnan8WC43_K9"
      },
      "execution_count": null,
      "outputs": []
    },
    {
      "cell_type": "markdown",
      "source": [
        "## Systematic Sampling"
      ],
      "metadata": {
        "id": "UrKyN53wYFRa"
      }
    },
    {
      "cell_type": "code",
      "source": [
        "print(\"\\nSystematic sample (k=2):\")\n",
        "n=len(workers)\n",
        "k=n // sample_size\n",
        "systematic_sample=workers.iloc[random.randint(0, k-1)::k]\n",
        "print(systematic_sample)"
      ],
      "metadata": {
        "id": "J13mVeqoYG_e"
      },
      "execution_count": null,
      "outputs": []
    },
    {
      "cell_type": "markdown",
      "source": [
        "### Startified Sampling"
      ],
      "metadata": {
        "id": "sY1ihobHYX7E"
      }
    },
    {
      "cell_type": "code",
      "source": [
        "print(\"\\nStratified sample\")\n",
        "strata=len(workers['Department'].unique())\n",
        "stratified_sample=workers.groupby('Department').apply(lambda x: x.sample(sample_size//strata),include_groups=False).reset_index()\n",
        "print(stratified_sample)"
      ],
      "metadata": {
        "id": "tqkKLfH5YYi-"
      },
      "execution_count": null,
      "outputs": []
    },
    {
      "cell_type": "markdown",
      "source": [
        "### Exercise 2:\n",
        "a) Create your own dataset with atleast 10 entires with the following colunms:\n",
        "\n",
        "\n",
        "* Student ID (which is unique to each student)\n",
        "* Age: between 15-25\n",
        "* GPA\n",
        "* Major (A maximum  of 3 different majors)\n",
        "* No. of study hours"
      ],
      "metadata": {
        "id": "S_654YqtBT0X"
      }
    },
    {
      "cell_type": "code",
      "source": [],
      "metadata": {
        "id": "1HSmsCsfbpM9"
      },
      "execution_count": null,
      "outputs": []
    },
    {
      "cell_type": "markdown",
      "source": [
        "b) Print the first 7 entires of your dataset"
      ],
      "metadata": {
        "id": "PQiHv_VODy1N"
      }
    },
    {
      "cell_type": "code",
      "source": [],
      "metadata": {
        "id": "WwXpMIWbcHBS"
      },
      "execution_count": null,
      "outputs": []
    },
    {
      "cell_type": "markdown",
      "source": [
        "c)  Print the last 5 entires of your dataset"
      ],
      "metadata": {
        "id": "wWyNzgwmGIqN"
      }
    },
    {
      "cell_type": "code",
      "source": [],
      "metadata": {
        "id": "CEUJaPzCcX8w"
      },
      "execution_count": null,
      "outputs": []
    },
    {
      "cell_type": "markdown",
      "source": [
        "d) Print the 2nd and 8th entries"
      ],
      "metadata": {
        "id": "IU2MNewAGWXE"
      }
    },
    {
      "cell_type": "code",
      "source": [],
      "metadata": {
        "id": "io_9jrAtcjTf"
      },
      "execution_count": null,
      "outputs": []
    },
    {
      "cell_type": "markdown",
      "source": [
        "e) **Create** a simple sample of your dataset contain 5 entries"
      ],
      "metadata": {
        "id": "NSaHlV4oEcD3"
      }
    },
    {
      "cell_type": "code",
      "source": [],
      "metadata": {
        "id": "eTkk7k8yczAR"
      },
      "execution_count": null,
      "outputs": []
    },
    {
      "cell_type": "markdown",
      "source": [
        "f) **Create** a stratified sample of your dataset based on the students majors"
      ],
      "metadata": {
        "id": "8OAzOAmzczhs"
      }
    },
    {
      "cell_type": "code",
      "source": [],
      "metadata": {
        "id": "or1l2nDic0PS"
      },
      "execution_count": null,
      "outputs": []
    }
  ]
}