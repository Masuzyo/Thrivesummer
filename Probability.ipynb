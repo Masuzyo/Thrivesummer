{
  "nbformat": 4,
  "nbformat_minor": 0,
  "metadata": {
    "colab": {
      "provenance": [],
      "authorship_tag": "ABX9TyPqBl4HI5L0pbTem2quT3+k",
      "include_colab_link": true
    },
    "kernelspec": {
      "name": "python3",
      "display_name": "Python 3"
    },
    "language_info": {
      "name": "python"
    }
  },
  "cells": [
    {
      "cell_type": "markdown",
      "metadata": {
        "id": "view-in-github",
        "colab_type": "text"
      },
      "source": [
        "<a href=\"https://colab.research.google.com/github/Masuzyo/Thrivesummer/blob/main/Probability.ipynb\" target=\"_parent\"><img src=\"https://colab.research.google.com/assets/colab-badge.svg\" alt=\"Open In Colab\"/></a>"
      ]
    },
    {
      "cell_type": "code",
      "source": [
        "import numpy as np\n",
        "import pandas as pd\n",
        "import random\n",
        "import matplotlib.pyplot as plt\n",
        "import seaborn as sns\n",
        "\n",
        "np.random.seed(42)\n",
        "random.seed(42)\n",
        "#seaborn_colors = sns.color_palette(\"colorblind\")"
      ],
      "metadata": {
        "id": "TRFRlWqs4HML"
      },
      "execution_count": null,
      "outputs": []
    },
    {
      "cell_type": "markdown",
      "source": [
        "# Probability\n",
        "\n",
        "An Emprical distribution is a probability distribution we obtaian from looking at multiple observation of a in event.\n",
        "\n",
        "**Example** : In this example we look at rolling a die"
      ],
      "metadata": {
        "id": "t3Rmo9ab3rw9"
      }
    },
    {
      "cell_type": "code",
      "execution_count": null,
      "metadata": {
        "id": "QZt9PExk3pQn"
      },
      "outputs": [],
      "source": [
        "# simulate die roll\n",
        "random.randint(1, 6)"
      ]
    },
    {
      "cell_type": "markdown",
      "source": [
        "- to simulate a repeated experiment we repeatedly run this fuction in a loop"
      ],
      "metadata": {
        "id": "KGxILAFE4vEq"
      }
    },
    {
      "cell_type": "code",
      "source": [
        "die_rolls = [random.randint(1, 6) for _ in range(10)]\n",
        "die_rolls"
      ],
      "metadata": {
        "id": "OsX5fSXv4mOq"
      },
      "execution_count": null,
      "outputs": []
    },
    {
      "cell_type": "markdown",
      "source": [
        "- this is still a small amount of iterations so we scale it up a little"
      ],
      "metadata": {
        "id": "yOARVL7o5dTG"
      }
    },
    {
      "cell_type": "code",
      "source": [
        "die_rolls = [random.randint(1, 6) for _ in range(60)]"
      ],
      "metadata": {
        "id": "Y4cP4mP05cNj"
      },
      "execution_count": null,
      "outputs": []
    },
    {
      "cell_type": "markdown",
      "source": [
        "- We now need to obtain the counts for each of our outcomes"
      ],
      "metadata": {
        "id": "noin28UG515e"
      }
    },
    {
      "cell_type": "code",
      "source": [
        "die_counts = pd.Series(die_rolls).value_counts()\n",
        "die_counts"
      ],
      "metadata": {
        "id": "xsXtRsnO52Dm"
      },
      "execution_count": null,
      "outputs": []
    },
    {
      "cell_type": "markdown",
      "source": [
        "- To make it more visually interesting we can put it in a bargraph"
      ],
      "metadata": {
        "id": "ysJiRh0k6iDT"
      }
    },
    {
      "cell_type": "code",
      "source": [
        "plt.figure(figsize=(6, 4))\n",
        "sns.barplot(x=die_counts.index, y=die_counts.values)\n",
        "plt.title('Die Roll Results (60 Rolls)')\n",
        "plt.xlabel('Outcome')\n",
        "plt.ylabel('Frequency')\n",
        "plt.show()"
      ],
      "metadata": {
        "id": "pGdoL1v46zeJ"
      },
      "execution_count": null,
      "outputs": []
    },
    {
      "cell_type": "markdown",
      "source": [
        "- This result does not align with the initution we have for this experiment. So we scale up to see how this develops"
      ],
      "metadata": {
        "id": "wRBE2FxA7QL3"
      }
    },
    {
      "cell_type": "code",
      "source": [
        "# 6000 times\n",
        "die_rolls = [random.randint(1, 6) for _ in range(6000)]\n",
        "die_counts = pd.Series(die_rolls).value_counts()\n",
        "plt.figure(figsize=(6, 4))\n",
        "sns.barplot(x=die_counts.index, y=die_counts.values)\n",
        "plt.title('Die Roll Results (6000 Rolls)')\n",
        "plt.xlabel('Outcome')\n",
        "plt.ylabel('Frequency')\n",
        "plt.show()"
      ],
      "metadata": {
        "id": "C3dN1WPp7OuG"
      },
      "execution_count": null,
      "outputs": []
    },
    {
      "cell_type": "code",
      "source": [
        "# 6000000 times\n",
        "die_rolls = [random.randint(1, 6) for _ in range(6000000)]\n",
        "die_counts = pd.Series(die_rolls).value_counts()\n",
        "plt.figure(figsize=(6, 4))\n",
        "sns.barplot(x=die_counts.index, y=die_counts.values)\n",
        "plt.title('Die Roll Results (6000000 Rolls)')\n",
        "plt.xlabel('Outcome')\n",
        "plt.ylabel('Frequency')\n",
        "plt.show()"
      ],
      "metadata": {
        "id": "lQfaVYJN7-6n"
      },
      "execution_count": null,
      "outputs": []
    },
    {
      "cell_type": "markdown",
      "source": [
        "**Example**: We can perform a similar experiment with toss a coin"
      ],
      "metadata": {
        "id": "bRIwRfe68BkV"
      }
    },
    {
      "cell_type": "code",
      "source": [
        "sample_sizes=  [10,100,1000,100000]\n",
        "sample_space= ['Heads','Tails']\n",
        "\n",
        "fig, axes = plt.subplots(2, 2, figsize=(12, 10))\n",
        "axes = axes.ravel()\n",
        "\n",
        "for n in sample_sizes:\n",
        "    coin_flips=[random.choice(sample_space) for _ in range(n)]\n",
        "    axes[sample_sizes.index(n)].bar(['Heads','Tails'],[coin_flips.count('Heads'),coin_flips.count('Tails')])\n",
        "    axes[sample_sizes.index(n)].set_title(f'Sample Size = {n}')\n",
        "    axes[sample_sizes.index(n)].set_xlabel('Outcome')\n",
        "    axes[sample_sizes.index(n)].set_ylabel('Frequency')\n",
        "\n",
        "plt.tight_layout()\n",
        "plt.show()"
      ],
      "metadata": {
        "id": "y4vF_B7e8wHN"
      },
      "execution_count": null,
      "outputs": []
    }
  ]
}